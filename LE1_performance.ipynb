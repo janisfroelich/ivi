{
 "cells": [
  {
   "cell_type": "code",
   "execution_count": 1,
   "metadata": {},
   "outputs": [],
   "source": [
    "import plotly.express as px\n",
    "import pandas as pd\n",
    "import numpy as np\n",
    "import matplotlib.pyplot as plt\n",
    "import seaborn as sns"
   ]
  },
  {
   "cell_type": "code",
   "execution_count": 2,
   "metadata": {},
   "outputs": [],
   "source": [
    "# pandas read pkl flight_data\n",
    "flight_data_arr = pd.read_pickle('flight_data_arr.pkl')\n",
    "flight_data_dep = pd.read_pickle('flight_data_dep.pkl')"
   ]
  },
  {
   "attachments": {},
   "cell_type": "markdown",
   "metadata": {},
   "source": [
    "# Analyse delay by departure dep_delay and where the delay is coming from"
   ]
  },
  {
   "cell_type": "code",
   "execution_count": 3,
   "metadata": {},
   "outputs": [
    {
     "data": {
      "text/plain": [
       "(array([1.300000e+01, 6.080000e+02, 7.811100e+04, 3.104330e+06,\n",
       "        2.787698e+06, 5.508260e+05, 2.219480e+05, 1.192060e+05,\n",
       "        7.368800e+04, 4.448000e+04, 2.857400e+04, 1.882000e+04,\n",
       "        1.276300e+04, 8.554000e+03, 5.923000e+03, 4.182000e+03,\n",
       "        3.017000e+03, 2.119000e+03, 1.558000e+03, 1.180000e+03,\n",
       "        9.460000e+02, 7.500000e+02, 5.630000e+02, 5.090000e+02,\n",
       "        4.390000e+02, 4.210000e+02, 3.510000e+02, 3.160000e+02,\n",
       "        3.090000e+02, 3.030000e+02, 2.690000e+02, 2.810000e+02,\n",
       "        2.900000e+02, 3.070000e+02, 3.130000e+02, 2.840000e+02,\n",
       "        2.740000e+02, 2.610000e+02, 2.210000e+02, 1.780000e+02,\n",
       "        1.610000e+02, 1.420000e+02, 1.440000e+02, 1.280000e+02,\n",
       "        1.070000e+02, 8.600000e+01, 8.100000e+01, 6.700000e+01,\n",
       "        4.900000e+01, 3.700000e+01, 2.900000e+01, 3.200000e+01,\n",
       "        3.200000e+01, 2.800000e+01, 1.900000e+01, 2.100000e+01,\n",
       "        8.000000e+00, 1.300000e+01, 8.000000e+00, 6.000000e+00,\n",
       "        4.000000e+00, 0.000000e+00, 3.000000e+00, 0.000000e+00,\n",
       "        2.000000e+00, 1.000000e+00, 1.000000e+00, 4.000000e+00,\n",
       "        0.000000e+00, 2.000000e+00, 2.000000e+00, 0.000000e+00,\n",
       "        0.000000e+00, 0.000000e+00, 0.000000e+00, 0.000000e+00,\n",
       "        1.000000e+00, 0.000000e+00, 0.000000e+00, 1.000000e+00,\n",
       "        1.000000e+00, 0.000000e+00, 0.000000e+00, 0.000000e+00,\n",
       "        0.000000e+00, 0.000000e+00, 0.000000e+00, 0.000000e+00,\n",
       "        0.000000e+00, 0.000000e+00, 0.000000e+00, 1.000000e+00,\n",
       "        1.000000e+00, 0.000000e+00, 0.000000e+00, 0.000000e+00,\n",
       "        0.000000e+00, 0.000000e+00, 0.000000e+00, 1.000000e+00]),\n",
       " array([-120.  ,  -91.88,  -63.76,  -35.64,   -7.52,   20.6 ,   48.72,\n",
       "          76.84,  104.96,  133.08,  161.2 ,  189.32,  217.44,  245.56,\n",
       "         273.68,  301.8 ,  329.92,  358.04,  386.16,  414.28,  442.4 ,\n",
       "         470.52,  498.64,  526.76,  554.88,  583.  ,  611.12,  639.24,\n",
       "         667.36,  695.48,  723.6 ,  751.72,  779.84,  807.96,  836.08,\n",
       "         864.2 ,  892.32,  920.44,  948.56,  976.68, 1004.8 , 1032.92,\n",
       "        1061.04, 1089.16, 1117.28, 1145.4 , 1173.52, 1201.64, 1229.76,\n",
       "        1257.88, 1286.  , 1314.12, 1342.24, 1370.36, 1398.48, 1426.6 ,\n",
       "        1454.72, 1482.84, 1510.96, 1539.08, 1567.2 , 1595.32, 1623.44,\n",
       "        1651.56, 1679.68, 1707.8 , 1735.92, 1764.04, 1792.16, 1820.28,\n",
       "        1848.4 , 1876.52, 1904.64, 1932.76, 1960.88, 1989.  , 2017.12,\n",
       "        2045.24, 2073.36, 2101.48, 2129.6 , 2157.72, 2185.84, 2213.96,\n",
       "        2242.08, 2270.2 , 2298.32, 2326.44, 2354.56, 2382.68, 2410.8 ,\n",
       "        2438.92, 2467.04, 2495.16, 2523.28, 2551.4 , 2579.52, 2607.64,\n",
       "        2635.76, 2663.88, 2692.  ]),\n",
       " <BarContainer object of 100 artists>)"
      ]
     },
     "execution_count": 3,
     "metadata": {},
     "output_type": "execute_result"
    },
    {
     "data": {
      "image/png": "[encoded data removed]",
      "text/plain": [
       "<Figure size 640x480 with 1 Axes>"
      ]
     },
     "metadata": {},
     "output_type": "display_data"
    }
   ],
   "source": [
    "# plot distribution of DEP_DELAY\n",
    "plt.hist(flight_data_arr['ARR_DELAY'], bins=100)"
   ]
  },
  {
   "cell_type": "code",
   "execution_count": 4,
   "metadata": {},
   "outputs": [
    {
     "name": "stdout",
     "output_type": "stream",
     "text": [
      "The mean delay was 5.05 minutes\n"
     ]
    }
   ],
   "source": [
    "print(f\"The mean delay was {np.round(np.mean(flight_data_arr['ARR_DELAY']), 2)} minutes\")"
   ]
  },
  {
   "cell_type": "code",
   "execution_count": 5,
   "metadata": {},
   "outputs": [
    {
     "name": "stdout",
     "output_type": "stream",
     "text": [
      "The mean delay was 5.05 minutes\n"
     ]
    }
   ],
   "source": [
    "print(f\"The mean delay was {np.round(np.mean(flight_data_arr['ARR_DELAY']), 2)} minutes\")"
   ]
  },
  {
   "cell_type": "code",
   "execution_count": 6,
   "metadata": {},
   "outputs": [
    {
     "data": {
      "text/plain": [
       "<AxesSubplot:>"
      ]
     },
     "execution_count": 6,
     "metadata": {},
     "output_type": "execute_result"
    },
    {
     "data": {
      "image/png": "[encoded data removed]",
      "text/plain": [
       "<Figure size 640x480 with 1 Axes>"
      ]
     },
     "metadata": {},
     "output_type": "display_data"
    }
   ],
   "source": [
    "# group by dest and count\n",
    "flight_data_arr.groupby('DEST')['DEST'].count().sort_values(ascending=False).hist()"
   ]
  },
  {
   "attachments": {},
   "cell_type": "markdown",
   "metadata": {},
   "source": [
    "# Testszenario 1"
   ]
  },
  {
   "cell_type": "code",
   "execution_count": 7,
   "metadata": {},
   "outputs": [],
   "source": [
    "# keep only dest with more than 10000 flights\n",
    "flight_data_arr_reduce_test_1 = flight_data_arr[flight_data_arr['DEST'].isin(flight_data_arr.groupby('DEST')['DEST'].count().sort_values(ascending=True).head(200).index)]"
   ]
  },
  {
   "cell_type": "code",
   "execution_count": 8,
   "metadata": {},
   "outputs": [
    {
     "name": "stdout",
     "output_type": "stream",
     "text": [
      "<class 'pandas.core.frame.DataFrame'>\n",
      "Int64Index: 266854 entries, 5054225 to 7094200\n",
      "Data columns (total 16 columns):\n",
      " #   Column               Non-Null Count   Dtype         \n",
      "---  ------               --------------   -----         \n",
      " 0   ARR_DATETIME         266854 non-null  datetime64[ns]\n",
      " 1   ARR_DELAY            265750 non-null  float64       \n",
      " 2   DEST                 266854 non-null  object        \n",
      " 3   CRS_ARR_TIME         266854 non-null  object        \n",
      " 4   ARR_TIME             266854 non-null  object        \n",
      " 5   WHEELS_ON            266854 non-null  float64       \n",
      " 6   ACTUAL_ARR_DATETIME  266854 non-null  datetime64[ns]\n",
      " 7   CRS_ELAPSED_TIME     266854 non-null  float64       \n",
      " 8   ACTUAL_ELAPSED_TIME  265965 non-null  float64       \n",
      " 9   AIR_TIME             265965 non-null  float64       \n",
      " 10  DISTANCE             266854 non-null  float64       \n",
      " 11  code_dest            266854 non-null  object        \n",
      " 12  country_id_dest      266854 non-null  object        \n",
      " 13  location_dest        266854 non-null  object        \n",
      " 14  city_dest            243604 non-null  object        \n",
      " 15  state_dest           243604 non-null  object        \n",
      "dtypes: datetime64[ns](2), float64(6), object(8)\n",
      "memory usage: 34.6+ MB\n"
     ]
    }
   ],
   "source": [
    "flight_data_arr_reduce_test_1.info()"
   ]
  },
  {
   "cell_type": "code",
   "execution_count": 9,
   "metadata": {},
   "outputs": [],
   "source": [
    "# subset with only arr_datetime and arr_delay\n",
    "flight_data_arr_reduce_arr_delay_test_1 = flight_data_arr_reduce_test_1[['ARR_DATETIME', 'ARR_DELAY', 'DEST']]"
   ]
  },
  {
   "cell_type": "code",
   "execution_count": 10,
   "metadata": {},
   "outputs": [
    {
     "name": "stdout",
     "output_type": "stream",
     "text": [
      "<class 'pandas.core.frame.DataFrame'>\n",
      "Int64Index: 266854 entries, 5054225 to 7094200\n",
      "Data columns (total 3 columns):\n",
      " #   Column        Non-Null Count   Dtype         \n",
      "---  ------        --------------   -----         \n",
      " 0   ARR_DATETIME  266854 non-null  datetime64[ns]\n",
      " 1   ARR_DELAY     265750 non-null  float64       \n",
      " 2   DEST          266854 non-null  object        \n",
      "dtypes: datetime64[ns](1), float64(1), object(1)\n",
      "memory usage: 8.1+ MB\n"
     ]
    }
   ],
   "source": [
    "flight_data_arr_reduce_arr_delay_test_1.info()"
   ]
  },
  {
   "cell_type": "code",
   "execution_count": 11,
   "metadata": {},
   "outputs": [],
   "source": [
    "#df = px.data.gapminder().query(\"country=='Canada'\")\n",
    "fig = px.line(flight_data_arr_reduce_arr_delay_test_1, x=flight_data_arr_reduce_arr_delay_test_1.ARR_DATETIME.sort_values(ascending=True), y=\"ARR_DELAY\", title='Total Delay per Day in 2018 (Testszenario 1 svg)', render_mode='svg')\n",
    "fig.show(renderer=\"browser\")\n",
    "fig.write_html(\"test_1_svg_line.html\")"
   ]
  },
  {
   "cell_type": "code",
   "execution_count": 12,
   "metadata": {},
   "outputs": [],
   "source": [
    "#df = px.data.gapminder().query(\"country=='Canada'\")\n",
    "fig = px.scatter(flight_data_arr_reduce_arr_delay_test_1, x=flight_data_arr_reduce_arr_delay_test_1.ARR_DATETIME.sort_values(ascending=True), y=\"ARR_DELAY\", title='Total Delay per Day in 2018 (Testszenario 1 svg)', render_mode='svg')\n",
    "fig.show(renderer=\"browser\")\n",
    "fig.write_html(\"test_1_svg_scatter.html\")"
   ]
  },
  {
   "cell_type": "code",
   "execution_count": 13,
   "metadata": {},
   "outputs": [],
   "source": [
    "#df = px.data.gapminder().query(\"country=='Canada'\")\n",
    "fig = px.line(flight_data_arr_reduce_arr_delay_test_1, x=flight_data_arr_reduce_arr_delay_test_1.ARR_DATETIME.sort_values(ascending=True), y=\"ARR_DELAY\", title='Total Delay per Day in 2018 (Testszenario 1 webgl)', render_mode='webgl')\n",
    "fig.show(renderer=\"browser\")\n",
    "fig.write_html(\"test_1_webgl_line.html\")"
   ]
  },
  {
   "cell_type": "code",
   "execution_count": 14,
   "metadata": {},
   "outputs": [],
   "source": [
    "#df = px.data.gapminder().query(\"country=='Canada'\")ARR_DELAY\n",
    "fig = px.scatter(flight_data_arr_reduce_arr_delay_test_1, x=flight_data_arr_reduce_arr_delay_test_1.ARR_DATETIME.sort_values(ascending=True), y=\"ARR_DELAY\", title='Total Delay per Day in 2018 (Testszenario 1 webgl)', render_mode='webgl')\n",
    "fig.show(renderer=\"browser\")\n",
    "fig.write_html(\"test_1_webgl_scatter.html\")"
   ]
  },
  {
   "attachments": {},
   "cell_type": "markdown",
   "metadata": {},
   "source": [
    "# Testszenario 2"
   ]
  },
  {
   "cell_type": "code",
   "execution_count": 15,
   "metadata": {},
   "outputs": [],
   "source": [
    "# keep only dest with more than 10000 flights\n",
    "flight_data_arr_reduce_test_2 = flight_data_arr[flight_data_arr['DEST'].isin(flight_data_arr.groupby('DEST')['DEST'].count().sort_values(ascending=True).head(250).index)]"
   ]
  },
  {
   "cell_type": "code",
   "execution_count": 16,
   "metadata": {},
   "outputs": [
    {
     "name": "stdout",
     "output_type": "stream",
     "text": [
      "<class 'pandas.core.frame.DataFrame'>\n",
      "Int64Index: 545158 entries, 1850906 to 7094200\n",
      "Data columns (total 16 columns):\n",
      " #   Column               Non-Null Count   Dtype         \n",
      "---  ------               --------------   -----         \n",
      " 0   ARR_DATETIME         545158 non-null  datetime64[ns]\n",
      " 1   ARR_DELAY            543109 non-null  float64       \n",
      " 2   DEST                 545158 non-null  object        \n",
      " 3   CRS_ARR_TIME         545158 non-null  object        \n",
      " 4   ARR_TIME             545158 non-null  object        \n",
      " 5   WHEELS_ON            545158 non-null  float64       \n",
      " 6   ACTUAL_ARR_DATETIME  545158 non-null  datetime64[ns]\n",
      " 7   CRS_ELAPSED_TIME     545158 non-null  float64       \n",
      " 8   ACTUAL_ELAPSED_TIME  543506 non-null  float64       \n",
      " 9   AIR_TIME             543506 non-null  float64       \n",
      " 10  DISTANCE             545158 non-null  float64       \n",
      " 11  code_dest            545158 non-null  object        \n",
      " 12  country_id_dest      545158 non-null  object        \n",
      " 13  location_dest        545158 non-null  object        \n",
      " 14  city_dest            489405 non-null  object        \n",
      " 15  state_dest           489405 non-null  object        \n",
      "dtypes: datetime64[ns](2), float64(6), object(8)\n",
      "memory usage: 70.7+ MB\n"
     ]
    }
   ],
   "source": [
    "flight_data_arr_reduce_test_2.info()"
   ]
  },
  {
   "cell_type": "code",
   "execution_count": 17,
   "metadata": {},
   "outputs": [],
   "source": [
    "# subset with only arr_datetime and arr_delay\n",
    "flight_data_arr_reduce_arr_delay_test_2 = flight_data_arr_reduce_test_2[['ARR_DATETIME', 'ARR_DELAY']]"
   ]
  },
  {
   "cell_type": "code",
   "execution_count": 18,
   "metadata": {},
   "outputs": [
    {
     "name": "stdout",
     "output_type": "stream",
     "text": [
      "<class 'pandas.core.frame.DataFrame'>\n",
      "Int64Index: 545158 entries, 1850906 to 7094200\n",
      "Data columns (total 2 columns):\n",
      " #   Column        Non-Null Count   Dtype         \n",
      "---  ------        --------------   -----         \n",
      " 0   ARR_DATETIME  545158 non-null  datetime64[ns]\n",
      " 1   ARR_DELAY     543109 non-null  float64       \n",
      "dtypes: datetime64[ns](1), float64(1)\n",
      "memory usage: 12.5 MB\n"
     ]
    }
   ],
   "source": [
    "flight_data_arr_reduce_arr_delay_test_2.info()"
   ]
  },
  {
   "cell_type": "code",
   "execution_count": 19,
   "metadata": {},
   "outputs": [],
   "source": [
    "#df = px.data.gapminder().query(\"country=='Canada'\")\n",
    "fig = px.line(flight_data_arr_reduce_arr_delay_test_2, x=flight_data_arr_reduce_arr_delay_test_2.ARR_DATETIME.sort_values(ascending=True), y=\"ARR_DELAY\", title='Total Delay per Day in 2018 (Testszenario 2 svg)', render_mode='svg')\n",
    "fig.show(renderer=\"browser\")\n",
    "fig.write_html(\"test_2_svg_line.html\")"
   ]
  },
  {
   "cell_type": "code",
   "execution_count": 20,
   "metadata": {},
   "outputs": [],
   "source": [
    "#df = px.data.gapminder().query(\"country=='Canada'\")\n",
    "fig = px.scatter(flight_data_arr_reduce_arr_delay_test_2, x=flight_data_arr_reduce_arr_delay_test_2.ARR_DATETIME.sort_values(ascending=True), y=\"ARR_DELAY\", title='Total Delay per Day in 2018 (Testszenario 2 svg)', render_mode='svg')\n",
    "fig.show(renderer=\"browser\")\n",
    "fig.write_html(\"test_2_svg_scatter.html\")"
   ]
  },
  {
   "cell_type": "code",
   "execution_count": 21,
   "metadata": {},
   "outputs": [],
   "source": [
    "#df = px.data.gapminder().query(\"country=='Canada'\")\n",
    "fig = px.line(flight_data_arr_reduce_arr_delay_test_2, x=flight_data_arr_reduce_arr_delay_test_2.ARR_DATETIME.sort_values(ascending=True), y=\"ARR_DELAY\", title='Total Delay per Day in 2018 (Testszenario 2 webgl)', render_mode='webgl')\n",
    "fig.show(renderer=\"browser\")\n",
    "fig.write_html(\"test_2_webgl_line.html\")"
   ]
  },
  {
   "cell_type": "code",
   "execution_count": 22,
   "metadata": {},
   "outputs": [
    {
     "ename": "KeyboardInterrupt",
     "evalue": "",
     "output_type": "error",
     "traceback": [
      "\u001b[0;31m---------------------------------------------------------------------------\u001b[0m",
      "\u001b[0;31mKeyboardInterrupt\u001b[0m                         Traceback (most recent call last)",
      "\u001b[1;32m/Users/janisfrolich/PycharmProjects/ivi/LE1_performance.ipynb Zelle 25\u001b[0m line \u001b[0;36m4\n\u001b[1;32m      <a href='vscode-notebook-cell:/Users/janisfrolich/PycharmProjects/ivi/LE1_performance.ipynb#X33sZmlsZQ%3D%3D?line=1'>2</a>\u001b[0m fig \u001b[39m=\u001b[39m px\u001b[39m.\u001b[39mscatter(flight_data_arr_reduce_arr_delay_test_2, x\u001b[39m=\u001b[39mflight_data_arr_reduce_arr_delay_test_2\u001b[39m.\u001b[39mARR_DATETIME\u001b[39m.\u001b[39msort_values(ascending\u001b[39m=\u001b[39m\u001b[39mTrue\u001b[39;00m), y\u001b[39m=\u001b[39m\u001b[39m\"\u001b[39m\u001b[39mARR_DELAY\u001b[39m\u001b[39m\"\u001b[39m, title\u001b[39m=\u001b[39m\u001b[39m'\u001b[39m\u001b[39mTotal Delay per Day in 2018 (Testszenario 2 webgl)\u001b[39m\u001b[39m'\u001b[39m, render_mode\u001b[39m=\u001b[39m\u001b[39m'\u001b[39m\u001b[39mwebgl\u001b[39m\u001b[39m'\u001b[39m)\n\u001b[1;32m      <a href='vscode-notebook-cell:/Users/janisfrolich/PycharmProjects/ivi/LE1_performance.ipynb#X33sZmlsZQ%3D%3D?line=2'>3</a>\u001b[0m fig\u001b[39m.\u001b[39mshow(renderer\u001b[39m=\u001b[39m\u001b[39m\"\u001b[39m\u001b[39mbrowser\u001b[39m\u001b[39m\"\u001b[39m)\n\u001b[0;32m----> <a href='vscode-notebook-cell:/Users/janisfrolich/PycharmProjects/ivi/LE1_performance.ipynb#X33sZmlsZQ%3D%3D?line=3'>4</a>\u001b[0m fig\u001b[39m.\u001b[39mwrite_html(\u001b[39m\"\u001b[39m\u001b[39mtest_2_webgl_scatter.html\u001b[39m\u001b[39m\"\u001b[39m)\n",
      "File \u001b[0;32m/Library/Frameworks/Python.framework/Versions/3.10/lib/python3.10/site-packages/plotly/basedatatypes.py:3708\u001b[0m, in \u001b[0;36mBaseFigure.write_html\u001b[0;34m(self, *args, **kwargs)\u001b[0m\n\u001b[1;32m   3593\u001b[0m \u001b[39m\"\"\"\u001b[39;00m\n\u001b[1;32m   3594\u001b[0m \u001b[39mWrite a figure to an HTML file representation\u001b[39;00m\n\u001b[1;32m   3595\u001b[0m \n\u001b[0;32m   (...)\u001b[0m\n\u001b[1;32m   3704\u001b[0m \u001b[39m    Representation of figure as an HTML div string\u001b[39;00m\n\u001b[1;32m   3705\u001b[0m \u001b[39m\"\"\"\u001b[39;00m\n\u001b[1;32m   3706\u001b[0m \u001b[39mimport\u001b[39;00m \u001b[39mplotly\u001b[39;00m\u001b[39m.\u001b[39;00m\u001b[39mio\u001b[39;00m \u001b[39mas\u001b[39;00m \u001b[39mpio\u001b[39;00m\n\u001b[0;32m-> 3708\u001b[0m \u001b[39mreturn\u001b[39;00m pio\u001b[39m.\u001b[39;49mwrite_html(\u001b[39mself\u001b[39;49m, \u001b[39m*\u001b[39;49margs, \u001b[39m*\u001b[39;49m\u001b[39m*\u001b[39;49mkwargs)\n",
      "File \u001b[0;32m/Library/Frameworks/Python.framework/Versions/3.10/lib/python3.10/site-packages/plotly/io/_html.py:513\u001b[0m, in \u001b[0;36mwrite_html\u001b[0;34m(fig, file, config, auto_play, include_plotlyjs, include_mathjax, post_script, full_html, animation_opts, validate, default_width, default_height, auto_open, div_id)\u001b[0m\n\u001b[1;32m    401\u001b[0m \u001b[39m\"\"\"\u001b[39;00m\n\u001b[1;32m    402\u001b[0m \u001b[39mWrite a figure to an HTML file representation\u001b[39;00m\n\u001b[1;32m    403\u001b[0m \n\u001b[0;32m   (...)\u001b[0m\n\u001b[1;32m    509\u001b[0m \u001b[39m    Representation of figure as an HTML div string\u001b[39;00m\n\u001b[1;32m    510\u001b[0m \u001b[39m\"\"\"\u001b[39;00m\n\u001b[1;32m    512\u001b[0m \u001b[39m# Build HTML string\u001b[39;00m\n\u001b[0;32m--> 513\u001b[0m html_str \u001b[39m=\u001b[39m to_html(\n\u001b[1;32m    514\u001b[0m     fig,\n\u001b[1;32m    515\u001b[0m     config\u001b[39m=\u001b[39;49mconfig,\n\u001b[1;32m    516\u001b[0m     auto_play\u001b[39m=\u001b[39;49mauto_play,\n\u001b[1;32m    517\u001b[0m     include_plotlyjs\u001b[39m=\u001b[39;49minclude_plotlyjs,\n\u001b[1;32m    518\u001b[0m     include_mathjax\u001b[39m=\u001b[39;49minclude_mathjax,\n\u001b[1;32m    519\u001b[0m     post_script\u001b[39m=\u001b[39;49mpost_script,\n\u001b[1;32m    520\u001b[0m     full_html\u001b[39m=\u001b[39;49mfull_html,\n\u001b[1;32m    521\u001b[0m     animation_opts\u001b[39m=\u001b[39;49manimation_opts,\n\u001b[1;32m    522\u001b[0m     default_width\u001b[39m=\u001b[39;49mdefault_width,\n\u001b[1;32m    523\u001b[0m     default_height\u001b[39m=\u001b[39;49mdefault_height,\n\u001b[1;32m    524\u001b[0m     validate\u001b[39m=\u001b[39;49mvalidate,\n\u001b[1;32m    525\u001b[0m     div_id\u001b[39m=\u001b[39;49mdiv_id,\n\u001b[1;32m    526\u001b[0m )\n\u001b[1;32m    528\u001b[0m \u001b[39m# Check if file is a string\u001b[39;00m\n\u001b[1;32m    529\u001b[0m \u001b[39mif\u001b[39;00m \u001b[39misinstance\u001b[39m(file, six\u001b[39m.\u001b[39mstring_types):\n\u001b[1;32m    530\u001b[0m     \u001b[39m# Use the standard pathlib constructor to make a pathlib object.\u001b[39;00m\n",
      "File \u001b[0;32m/Library/Frameworks/Python.framework/Versions/3.10/lib/python3.10/site-packages/plotly/io/_html.py:146\u001b[0m, in \u001b[0;36mto_html\u001b[0;34m(fig, config, auto_play, include_plotlyjs, include_mathjax, post_script, full_html, animation_opts, default_width, default_height, validate, div_id)\u001b[0m\n\u001b[1;32m    143\u001b[0m plotdivid \u001b[39m=\u001b[39m div_id \u001b[39mor\u001b[39;00m \u001b[39mstr\u001b[39m(uuid\u001b[39m.\u001b[39muuid4())\n\u001b[1;32m    145\u001b[0m \u001b[39m# ## Serialize figure ##\u001b[39;00m\n\u001b[0;32m--> 146\u001b[0m jdata \u001b[39m=\u001b[39m to_json_plotly(fig_dict\u001b[39m.\u001b[39;49mget(\u001b[39m\"\u001b[39;49m\u001b[39mdata\u001b[39;49m\u001b[39m\"\u001b[39;49m, []))\n\u001b[1;32m    147\u001b[0m jlayout \u001b[39m=\u001b[39m to_json_plotly(fig_dict\u001b[39m.\u001b[39mget(\u001b[39m\"\u001b[39m\u001b[39mlayout\u001b[39m\u001b[39m\"\u001b[39m, {}))\n\u001b[1;32m    149\u001b[0m \u001b[39mif\u001b[39;00m fig_dict\u001b[39m.\u001b[39mget(\u001b[39m\"\u001b[39m\u001b[39mframes\u001b[39m\u001b[39m\"\u001b[39m, \u001b[39mNone\u001b[39;00m):\n",
      "File \u001b[0;32m/Library/Frameworks/Python.framework/Versions/3.10/lib/python3.10/site-packages/plotly/io/_json.py:124\u001b[0m, in \u001b[0;36mto_json_plotly\u001b[0;34m(plotly_object, pretty, engine)\u001b[0m\n\u001b[1;32m    120\u001b[0m         opts[\u001b[39m\"\u001b[39m\u001b[39mseparators\u001b[39m\u001b[39m\"\u001b[39m] \u001b[39m=\u001b[39m (\u001b[39m\"\u001b[39m\u001b[39m,\u001b[39m\u001b[39m\"\u001b[39m, \u001b[39m\"\u001b[39m\u001b[39m:\u001b[39m\u001b[39m\"\u001b[39m)\n\u001b[1;32m    122\u001b[0m     \u001b[39mfrom\u001b[39;00m \u001b[39m_plotly_utils\u001b[39;00m\u001b[39m.\u001b[39;00m\u001b[39mutils\u001b[39;00m \u001b[39mimport\u001b[39;00m PlotlyJSONEncoder\n\u001b[0;32m--> 124\u001b[0m     \u001b[39mreturn\u001b[39;00m json\u001b[39m.\u001b[39;49mdumps(plotly_object, \u001b[39mcls\u001b[39;49m\u001b[39m=\u001b[39;49mPlotlyJSONEncoder, \u001b[39m*\u001b[39;49m\u001b[39m*\u001b[39;49mopts)\n\u001b[1;32m    125\u001b[0m \u001b[39melif\u001b[39;00m engine \u001b[39m==\u001b[39m \u001b[39m\"\u001b[39m\u001b[39morjson\u001b[39m\u001b[39m\"\u001b[39m:\n\u001b[1;32m    126\u001b[0m     JsonConfig\u001b[39m.\u001b[39mvalidate_orjson()\n",
      "File \u001b[0;32m/Library/Frameworks/Python.framework/Versions/3.10/lib/python3.10/json/__init__.py:238\u001b[0m, in \u001b[0;36mdumps\u001b[0;34m(obj, skipkeys, ensure_ascii, check_circular, allow_nan, cls, indent, separators, default, sort_keys, **kw)\u001b[0m\n\u001b[1;32m    232\u001b[0m \u001b[39mif\u001b[39;00m \u001b[39mcls\u001b[39m \u001b[39mis\u001b[39;00m \u001b[39mNone\u001b[39;00m:\n\u001b[1;32m    233\u001b[0m     \u001b[39mcls\u001b[39m \u001b[39m=\u001b[39m JSONEncoder\n\u001b[1;32m    234\u001b[0m \u001b[39mreturn\u001b[39;00m \u001b[39mcls\u001b[39;49m(\n\u001b[1;32m    235\u001b[0m     skipkeys\u001b[39m=\u001b[39;49mskipkeys, ensure_ascii\u001b[39m=\u001b[39;49mensure_ascii,\n\u001b[1;32m    236\u001b[0m     check_circular\u001b[39m=\u001b[39;49mcheck_circular, allow_nan\u001b[39m=\u001b[39;49mallow_nan, indent\u001b[39m=\u001b[39;49mindent,\n\u001b[1;32m    237\u001b[0m     separators\u001b[39m=\u001b[39;49mseparators, default\u001b[39m=\u001b[39;49mdefault, sort_keys\u001b[39m=\u001b[39;49msort_keys,\n\u001b[0;32m--> 238\u001b[0m     \u001b[39m*\u001b[39;49m\u001b[39m*\u001b[39;49mkw)\u001b[39m.\u001b[39;49mencode(obj)\n",
      "File \u001b[0;32m/Library/Frameworks/Python.framework/Versions/3.10/lib/python3.10/site-packages/_plotly_utils/utils.py:59\u001b[0m, in \u001b[0;36mPlotlyJSONEncoder.encode\u001b[0;34m(self, o)\u001b[0m\n\u001b[1;32m     52\u001b[0m \u001b[39m\"\"\"\u001b[39;00m\n\u001b[1;32m     53\u001b[0m \u001b[39mLoad and then dump the result using parse_constant kwarg\u001b[39;00m\n\u001b[1;32m     54\u001b[0m \n\u001b[1;32m     55\u001b[0m \u001b[39mNote that setting invalid separators will cause a failure at this step.\u001b[39;00m\n\u001b[1;32m     56\u001b[0m \n\u001b[1;32m     57\u001b[0m \u001b[39m\"\"\"\u001b[39;00m\n\u001b[1;32m     58\u001b[0m \u001b[39m# this will raise errors in a normal-expected way\u001b[39;00m\n\u001b[0;32m---> 59\u001b[0m encoded_o \u001b[39m=\u001b[39m \u001b[39msuper\u001b[39;49m(PlotlyJSONEncoder, \u001b[39mself\u001b[39;49m)\u001b[39m.\u001b[39;49mencode(o)\n\u001b[1;32m     60\u001b[0m \u001b[39m# Brute force guessing whether NaN or Infinity values are in the string\u001b[39;00m\n\u001b[1;32m     61\u001b[0m \u001b[39m# We catch false positive cases (e.g. strings such as titles, labels etc.)\u001b[39;00m\n\u001b[1;32m     62\u001b[0m \u001b[39m# but this is ok since the intention is to skip the decoding / reencoding\u001b[39;00m\n\u001b[1;32m     63\u001b[0m \u001b[39m# step when it's completely safe\u001b[39;00m\n\u001b[1;32m     65\u001b[0m \u001b[39mif\u001b[39;00m \u001b[39mnot\u001b[39;00m (\u001b[39m\"\u001b[39m\u001b[39mNaN\u001b[39m\u001b[39m\"\u001b[39m \u001b[39min\u001b[39;00m encoded_o \u001b[39mor\u001b[39;00m \u001b[39m\"\u001b[39m\u001b[39mInfinity\u001b[39m\u001b[39m\"\u001b[39m \u001b[39min\u001b[39;00m encoded_o):\n",
      "File \u001b[0;32m/Library/Frameworks/Python.framework/Versions/3.10/lib/python3.10/json/encoder.py:199\u001b[0m, in \u001b[0;36mJSONEncoder.encode\u001b[0;34m(self, o)\u001b[0m\n\u001b[1;32m    195\u001b[0m         \u001b[39mreturn\u001b[39;00m encode_basestring(o)\n\u001b[1;32m    196\u001b[0m \u001b[39m# This doesn't pass the iterator directly to ''.join() because the\u001b[39;00m\n\u001b[1;32m    197\u001b[0m \u001b[39m# exceptions aren't as detailed.  The list call should be roughly\u001b[39;00m\n\u001b[1;32m    198\u001b[0m \u001b[39m# equivalent to the PySequence_Fast that ''.join() would do.\u001b[39;00m\n\u001b[0;32m--> 199\u001b[0m chunks \u001b[39m=\u001b[39m \u001b[39mself\u001b[39;49m\u001b[39m.\u001b[39;49miterencode(o, _one_shot\u001b[39m=\u001b[39;49m\u001b[39mTrue\u001b[39;49;00m)\n\u001b[1;32m    200\u001b[0m \u001b[39mif\u001b[39;00m \u001b[39mnot\u001b[39;00m \u001b[39misinstance\u001b[39m(chunks, (\u001b[39mlist\u001b[39m, \u001b[39mtuple\u001b[39m)):\n\u001b[1;32m    201\u001b[0m     chunks \u001b[39m=\u001b[39m \u001b[39mlist\u001b[39m(chunks)\n",
      "File \u001b[0;32m/Library/Frameworks/Python.framework/Versions/3.10/lib/python3.10/json/encoder.py:257\u001b[0m, in \u001b[0;36mJSONEncoder.iterencode\u001b[0;34m(self, o, _one_shot)\u001b[0m\n\u001b[1;32m    252\u001b[0m \u001b[39melse\u001b[39;00m:\n\u001b[1;32m    253\u001b[0m     _iterencode \u001b[39m=\u001b[39m _make_iterencode(\n\u001b[1;32m    254\u001b[0m         markers, \u001b[39mself\u001b[39m\u001b[39m.\u001b[39mdefault, _encoder, \u001b[39mself\u001b[39m\u001b[39m.\u001b[39mindent, floatstr,\n\u001b[1;32m    255\u001b[0m         \u001b[39mself\u001b[39m\u001b[39m.\u001b[39mkey_separator, \u001b[39mself\u001b[39m\u001b[39m.\u001b[39mitem_separator, \u001b[39mself\u001b[39m\u001b[39m.\u001b[39msort_keys,\n\u001b[1;32m    256\u001b[0m         \u001b[39mself\u001b[39m\u001b[39m.\u001b[39mskipkeys, _one_shot)\n\u001b[0;32m--> 257\u001b[0m \u001b[39mreturn\u001b[39;00m _iterencode(o, \u001b[39m0\u001b[39;49m)\n",
      "File \u001b[0;32m/Library/Frameworks/Python.framework/Versions/3.10/lib/python3.10/site-packages/_plotly_utils/utils.py:133\u001b[0m, in \u001b[0;36mPlotlyJSONEncoder.default\u001b[0;34m(self, obj)\u001b[0m\n\u001b[1;32m    131\u001b[0m \u001b[39mfor\u001b[39;00m encoding_method \u001b[39min\u001b[39;00m encoding_methods:\n\u001b[1;32m    132\u001b[0m     \u001b[39mtry\u001b[39;00m:\n\u001b[0;32m--> 133\u001b[0m         \u001b[39mreturn\u001b[39;00m encoding_method(obj)\n\u001b[1;32m    134\u001b[0m     \u001b[39mexcept\u001b[39;00m NotEncodable:\n\u001b[1;32m    135\u001b[0m         \u001b[39mpass\u001b[39;00m\n",
      "File \u001b[0;32m/Library/Frameworks/Python.framework/Versions/3.10/lib/python3.10/site-packages/_plotly_utils/utils.py:201\u001b[0m, in \u001b[0;36mPlotlyJSONEncoder.encode_as_datetime\u001b[0;34m(obj)\u001b[0m\n\u001b[1;32m    199\u001b[0m \u001b[39m\"\"\"Convert datetime objects to iso-format strings\"\"\"\u001b[39;00m\n\u001b[1;32m    200\u001b[0m \u001b[39mtry\u001b[39;00m:\n\u001b[0;32m--> 201\u001b[0m     \u001b[39mreturn\u001b[39;00m obj\u001b[39m.\u001b[39;49misoformat()\n\u001b[1;32m    202\u001b[0m \u001b[39mexcept\u001b[39;00m \u001b[39mAttributeError\u001b[39;00m:\n\u001b[1;32m    203\u001b[0m     \u001b[39mraise\u001b[39;00m NotEncodable\n",
      "\u001b[0;31mKeyboardInterrupt\u001b[0m: "
     ]
    }
   ],
   "source": [
    "#df = px.data.gapminder().query(\"country=='Canada'\")\n",
    "fig = px.scatter(flight_data_arr_reduce_arr_delay_test_2, x=flight_data_arr_reduce_arr_delay_test_2.ARR_DATETIME.sort_values(ascending=True), y=\"ARR_DELAY\", title='Total Delay per Day in 2018 (Testszenario 2 webgl)', render_mode='webgl')\n",
    "fig.show(renderer=\"browser\")\n",
    "fig.write_html(\"test_2_webgl_scatter.html\")"
   ]
  },
  {
   "attachments": {},
   "cell_type": "markdown",
   "metadata": {},
   "source": [
    "# Testszenario 3"
   ]
  },
  {
   "cell_type": "code",
   "execution_count": null,
   "metadata": {},
   "outputs": [],
   "source": [
    "# keep only dest with more than 10000 flights\n",
    "flight_data_arr_reduce_test_3 = flight_data_arr[flight_data_arr['DEST'].isin(flight_data_arr.groupby('DEST')['DEST'].count().sort_values(ascending=True).head(300).index)]"
   ]
  },
  {
   "cell_type": "code",
   "execution_count": null,
   "metadata": {},
   "outputs": [
    {
     "name": "stdout",
     "output_type": "stream",
     "text": [
      "<class 'pandas.core.frame.DataFrame'>\n",
      "Int64Index: 1274928 entries, 732612 to 7094200\n",
      "Data columns (total 16 columns):\n",
      " #   Column               Non-Null Count    Dtype         \n",
      "---  ------               --------------    -----         \n",
      " 0   ARR_DATETIME         1274928 non-null  datetime64[ns]\n",
      " 1   ARR_DELAY            1271307 non-null  float64       \n",
      " 2   DEST                 1274928 non-null  object        \n",
      " 3   CRS_ARR_TIME         1274928 non-null  object        \n",
      " 4   ARR_TIME             1274928 non-null  object        \n",
      " 5   WHEELS_ON            1274928 non-null  float64       \n",
      " 6   ACTUAL_ARR_DATETIME  1274928 non-null  datetime64[ns]\n",
      " 7   CRS_ELAPSED_TIME     1274927 non-null  float64       \n",
      " 8   ACTUAL_ELAPSED_TIME  1272106 non-null  float64       \n",
      " 9   AIR_TIME             1272106 non-null  float64       \n",
      " 10  DISTANCE             1274928 non-null  float64       \n",
      " 11  code_dest            1274928 non-null  object        \n",
      " 12  country_id_dest      1274928 non-null  object        \n",
      " 13  location_dest        1274928 non-null  object        \n",
      " 14  city_dest            1140668 non-null  object        \n",
      " 15  state_dest           1140668 non-null  object        \n",
      "dtypes: datetime64[ns](2), float64(6), object(8)\n",
      "memory usage: 165.4+ MB\n"
     ]
    }
   ],
   "source": [
    "flight_data_arr_reduce_test_3.info()"
   ]
  },
  {
   "cell_type": "code",
   "execution_count": null,
   "metadata": {},
   "outputs": [],
   "source": [
    "# subset with only arr_datetime and arr_delay\n",
    "flight_data_arr_reduce_arr_delay_test_3 = flight_data_arr_reduce_test_3[['ARR_DATETIME', 'ARR_DELAY']]"
   ]
  },
  {
   "cell_type": "code",
   "execution_count": null,
   "metadata": {},
   "outputs": [
    {
     "name": "stdout",
     "output_type": "stream",
     "text": [
      "<class 'pandas.core.frame.DataFrame'>\n",
      "Int64Index: 1274928 entries, 732612 to 7094200\n",
      "Data columns (total 2 columns):\n",
      " #   Column        Non-Null Count    Dtype         \n",
      "---  ------        --------------    -----         \n",
      " 0   ARR_DATETIME  1274928 non-null  datetime64[ns]\n",
      " 1   ARR_DELAY     1271307 non-null  float64       \n",
      "dtypes: datetime64[ns](1), float64(1)\n",
      "memory usage: 29.2 MB\n"
     ]
    }
   ],
   "source": [
    "flight_data_arr_reduce_arr_delay_test_3.info()"
   ]
  },
  {
   "cell_type": "code",
   "execution_count": null,
   "metadata": {},
   "outputs": [],
   "source": [
    "#df = px.data.gapminder().query(\"country=='Canada'\")\n",
    "fig = px.line(flight_data_arr_reduce_arr_delay_test_3, x=flight_data_arr_reduce_arr_delay_test_3.ARR_DATETIME.sort_values(ascending=True), y=\"ARR_DELAY\", title='Total Delay per Day in 2018 (Testszenario 3 svg)', render_mode='svg')\n",
    "fig.show(renderer=\"browser\")\n",
    "fig.write_html(\"test_3_svg_line.html\")"
   ]
  },
  {
   "cell_type": "code",
   "execution_count": null,
   "metadata": {},
   "outputs": [],
   "source": [
    "#df = px.data.gapminder().query(\"country=='Canada'\")\n",
    "fig = px.scatter(flight_data_arr_reduce_arr_delay_test_3, x=flight_data_arr_reduce_arr_delay_test_3.ARR_DATETIME.sort_values(ascending=True), y=\"ARR_DELAY\", title='Total Delay per Day in 2018 (Testszenario 3 svg)', render_mode='svg')\n",
    "fig.show(renderer=\"browser\")\n",
    "fig.write_html(\"test_3_svg_scatter.html\")"
   ]
  },
  {
   "cell_type": "code",
   "execution_count": null,
   "metadata": {},
   "outputs": [],
   "source": [
    "#df = px.data.gapminder().query(\"country=='Canada'\")\n",
    "fig = px.line(flight_data_arr_reduce_arr_delay_test_3, x=flight_data_arr_reduce_arr_delay_test_3.ARR_DATETIME.sort_values(ascending=True), y=\"ARR_DELAY\", title='Total Delay per Day in 2018 (Testszenario 3 webgl)', render_mode='webgl')\n",
    "fig.show(renderer=\"browser\")\n",
    "fig.write_html(\"test_3_webgl_line.html\")"
   ]
  },
  {
   "cell_type": "code",
   "execution_count": null,
   "metadata": {},
   "outputs": [],
   "source": [
    "#df = px.data.gapminder().query(\"country=='Canada'\")\n",
    "fig = px.scatter(flight_data_arr_reduce_arr_delay_test_3, x=flight_data_arr_reduce_arr_delay_test_3.ARR_DATETIME.sort_values(ascending=True), y=\"ARR_DELAY\", title='Total Delay per Day in 2018 (Testszenario 3 webgl)', render_mode='webgl')\n",
    "fig.show(renderer=\"browser\")\n",
    "fig.write_html(\"test_3_webgl_scatter.html\")"
   ]
  }
 ],
 "metadata": {
  "kernelspec": {
   "display_name": "Python 3",
   "language": "python",
   "name": "python3"
  },
  "language_info": {
   "codemirror_mode": {
    "name": "ipython",
    "version": 3
   },
   "file_extension": ".py",
   "mimetype": "text/x-python",
   "name": "python",
   "nbconvert_exporter": "python",
   "pygments_lexer": "ipython3",
   "version": "3.10.2"
  },
  "orig_nbformat": 4,
  "vscode": {
   "interpreter": {
    "hash": "949777d72b0d2535278d3dc13498b2535136f6dfe0678499012e853ee9abcab1"
   }
  }
 },
 "nbformat": 4,
 "nbformat_minor": 2
}
